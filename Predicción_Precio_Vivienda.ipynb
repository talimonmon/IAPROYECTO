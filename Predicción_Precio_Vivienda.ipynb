{
 "cells": [
  {
   "cell_type": "code",
   "execution_count": 8,
   "id": "c84f3dd6-fa31-4cc5-97a9-0ac3af65ddfb",
   "metadata": {},
   "outputs": [],
   "source": [
    "import pandas as pd\n",
    "import numpy as np\n",
    "from sklearn.model_selection import train_test_split\n",
    "from sklearn.linear_model import LinearRegression\n",
    "from sklearn.metrics import mean_squared_error, r2_score\n",
    "from sklearn.preprocessing import StandardScaler\n",
    "from tensorflow.keras.models import Sequential\n",
    "from tensorflow.keras.layers import Dense\n"
   ]
  },
  {
   "cell_type": "code",
   "execution_count": 2,
   "id": "7f463393-00b1-4357-99e7-ce6509ea6fa6",
   "metadata": {},
   "outputs": [],
   "source": [
    "# Cargar los datos\n",
    "df = pd.read_csv(\"train.csv\")\n",
    "\n",
    "# Seleccionamos solo variables numéricas\n",
    "df_num = df.select_dtypes(include=[np.number])\n",
    "\n",
    "# Eliminamos las filas con valores nulos \n",
    "df_num = df_num.dropna()\n",
    "\n",
    "# Separar variables predictoras (X) y variable objetivo (y)\n",
    "X = df_num.drop(columns=[\"SalePrice\", \"Id\"])\n",
    "y = df_num[\"SalePrice\"]\n",
    "\n",
    "scaler = StandardScaler()\n",
    "X_scaled = scaler.fit_transform(X)\n",
    "\n",
    "# División de los datos\n",
    "X_train, X_test, y_train, y_test = train_test_split(X_scaled, y, test_size=0.2, random_state=42)\n"
   ]
  },
  {
   "cell_type": "code",
   "execution_count": 3,
   "id": "98a52c1e-fc12-4ea8-a223-27c41829aed5",
   "metadata": {},
   "outputs": [],
   "source": [
    "lr = LinearRegression()\n",
    "lr.fit(X_train, y_train)\n",
    "y_pred_lr = lr.predict(X_test)\n"
   ]
  },
  {
   "cell_type": "code",
   "execution_count": 4,
   "id": "bab031c3-c1af-43f0-93d8-700ea44fa908",
   "metadata": {},
   "outputs": [
    {
     "name": "stdout",
     "output_type": "stream",
     "text": [
      "\u001b[1m8/8\u001b[0m \u001b[32m━━━━━━━━━━━━━━━━━━━━\u001b[0m\u001b[37m\u001b[0m \u001b[1m0s\u001b[0m 13ms/step\n"
     ]
    }
   ],
   "source": [
    "from tensorflow.keras.models import Sequential\n",
    "from tensorflow.keras.layers import Dense, Input\n",
    "\n",
    "model = Sequential()\n",
    "model.add(Input(shape=(X_train.shape[1],)))\n",
    "model.add(Dense(64, activation='relu'))\n",
    "model.add(Dense(32, activation='relu'))\n",
    "model.add(Dense(1))  # salida de regresión\n",
    "\n",
    "model.compile(optimizer='adam', loss='mean_squared_error')\n",
    "model.fit(X_train, y_train, epochs=100, batch_size=32, verbose=0)\n",
    "\n",
    "y_pred_nn = model.predict(X_test).flatten()\n"
   ]
  },
  {
   "cell_type": "code",
   "execution_count": 5,
   "id": "264fb659-83df-4586-9ac1-3a69ab04b1ec",
   "metadata": {},
   "outputs": [
    {
     "name": "stdout",
     "output_type": "stream",
     "text": [
      "Regresión Lineal -> MSE: 1588229760.73, R²: 0.80\n",
      "Red Neuronal     -> MSE: 5866254848.00, R²: 0.26\n"
     ]
    }
   ],
   "source": [
    "# Regresión lineal\n",
    "mse_lr = mean_squared_error(y_test, y_pred_lr)\n",
    "r2_lr = r2_score(y_test, y_pred_lr)\n",
    "\n",
    "# Red neuronal\n",
    "mse_nn = mean_squared_error(y_test, y_pred_nn)\n",
    "r2_nn = r2_score(y_test, y_pred_nn)\n",
    "\n",
    "print(f\"Regresión Lineal -> MSE: {mse_lr:.2f}, R²: {r2_lr:.2f}\")\n",
    "print(f\"Red Neuronal     -> MSE: {mse_nn:.2f}, R²: {r2_nn:.2f}\")\n"
   ]
  },
  {
   "cell_type": "code",
   "execution_count": 6,
   "id": "96b6183d-3c75-4ce2-a1c5-4531492fef66",
   "metadata": {},
   "outputs": [
    {
     "name": "stdout",
     "output_type": "stream",
     "text": [
      "\u001b[1m1/1\u001b[0m \u001b[32m━━━━━━━━━━━━━━━━━━━━\u001b[0m\u001b[37m\u001b[0m \u001b[1m0s\u001b[0m 42ms/step\n",
      "Predicciones con regresión lineal: [149575.3367402  158230.46370932 108496.29825731 141537.83886374\n",
      " 157079.77923371]\n",
      "Predicciones con red neuronal:     [48342.06  43064.543 82705.95  47870.637 18774.62 ]\n"
     ]
    }
   ],
   "source": [
    "nuevos_datos = X_test[:5]\n",
    "pred_lr = lr.predict(nuevos_datos)\n",
    "pred_nn = model.predict(nuevos_datos).flatten()\n",
    "\n",
    "print(\"Predicciones con regresión lineal:\", pred_lr)\n",
    "print(\"Predicciones con red neuronal:    \", pred_nn)\n"
   ]
  },
  {
   "cell_type": "code",
   "execution_count": 7,
   "id": "42eae595-f830-4804-a28b-33ba37cfb7de",
   "metadata": {},
   "outputs": [
    {
     "name": "stdout",
     "output_type": "stream",
     "text": [
      "     Real  Regresión Lineal  Red Neuronal\n",
      "0  140000     149575.336740  48342.058594\n",
      "1  150750     158230.463709  43064.542969\n",
      "2  157000     108496.298257  82705.953125\n",
      "3  138000     141537.838864  47870.636719\n",
      "4  144000     157079.779234  18774.619141\n"
     ]
    }
   ],
   "source": [
    "resultados = pd.DataFrame({\n",
    "    \"Real\": y_test[:5].values,\n",
    "    \"Regresión Lineal\": pred_lr,\n",
    "    \"Red Neuronal\": pred_nn\n",
    "})\n",
    "print(resultados)\n"
   ]
  },
  {
   "cell_type": "code",
   "execution_count": null,
   "id": "f1b658a8-d3d4-4ae3-a0f1-48150ad50c0c",
   "metadata": {},
   "outputs": [],
   "source": []
  },
  {
   "cell_type": "code",
   "execution_count": null,
   "id": "841779eb-4432-45bd-9538-3877a42f64e1",
   "metadata": {},
   "outputs": [],
   "source": []
  }
 ],
 "metadata": {
  "kernelspec": {
   "display_name": "Python 3 (ipykernel)",
   "language": "python",
   "name": "python3"
  },
  "language_info": {
   "codemirror_mode": {
    "name": "ipython",
    "version": 3
   },
   "file_extension": ".py",
   "mimetype": "text/x-python",
   "name": "python",
   "nbconvert_exporter": "python",
   "pygments_lexer": "ipython3",
   "version": "3.12.3"
  }
 },
 "nbformat": 4,
 "nbformat_minor": 5
}
